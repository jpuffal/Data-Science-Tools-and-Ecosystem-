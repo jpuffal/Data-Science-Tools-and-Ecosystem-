{
 "cells": [
  {
   "cell_type": "markdown",
   "id": "9ae6ef96-0f52-417a-985b-003ce2680d04",
   "metadata": {},
   "source": [
    "# Data Science Tools and Ecosystem"
   ]
  },
  {
   "cell_type": "markdown",
   "id": "26551e1d-8f7e-4586-91e9-980acf5d8aa9",
   "metadata": {},
   "source": [
    "**Objectives:**\n",
    "\n",
    "- Learn to use Markdown and Code cells\n",
    "- List popular languages used in Data Science\n",
    "- List Data Science Tools\n",
    "- Perform arithmetic expressions\n",
    "  "
   ]
  },
  {
   "cell_type": "markdown",
   "id": "eb56e64b-d3c0-4a32-bfd0-1333662df544",
   "metadata": {},
   "source": [
    "Some of the popular languages that Data Scientists use are:\n",
    "1. Python\n",
    "2. R\n",
    "3. Julia"
   ]
  },
  {
   "cell_type": "markdown",
   "id": "e65077e1-4deb-4623-af0a-7411d9581445",
   "metadata": {},
   "source": [
    "Data Science Tools\n",
    "| Data Science Tools |\n",
    "| ------------- |\n",
    "| Jupyter Notebooks |\n",
    "| RStudio |\n",
    "| Visual Studio Cone |"
   ]
  },
  {
   "cell_type": "markdown",
   "id": "408917a5-083d-4f61-8800-2987a3dae60b",
   "metadata": {},
   "source": [
    "### Below are a few examples of evaluating arithmetic expressions in Python\n"
   ]
  },
  {
   "cell_type": "code",
   "execution_count": 12,
   "id": "5b6ebcc9-5fda-434d-898a-76543fcbb8cb",
   "metadata": {},
   "outputs": [
    {
     "data": {
      "text/plain": [
       "17"
      ]
     },
     "execution_count": 12,
     "metadata": {},
     "output_type": "execute_result"
    }
   ],
   "source": [
    "(3*4)+5\n",
    "\n",
    "# This a simple arithmetic expression to mutiply then add integers"
   ]
  },
  {
   "cell_type": "code",
   "execution_count": 16,
   "id": "a9c0b5ec-14d8-442e-b77e-3fdb3e9e0c8b",
   "metadata": {},
   "outputs": [
    {
     "data": {
      "text/plain": [
       "3.3333333333333335"
      ]
     },
     "execution_count": 16,
     "metadata": {},
     "output_type": "execute_result"
    }
   ],
   "source": [
    "200/60\n",
    "\n",
    "#This will convert 200 minutes to hours by diving by 60"
   ]
  },
  {
   "cell_type": "markdown",
   "id": "aa69617a-08c2-4511-80a0-6fbc07ad14e9",
   "metadata": {},
   "source": [
    "## Author\n",
    "Julia P.\n"
   ]
  },
  {
   "cell_type": "code",
   "execution_count": null,
   "id": "aac4e567-9580-41e6-9b55-04e1f6aa27b1",
   "metadata": {},
   "outputs": [],
   "source": []
  }
 ],
 "metadata": {
  "kernelspec": {
   "display_name": "Python [conda env:base] *",
   "language": "python",
   "name": "conda-base-py"
  },
  "language_info": {
   "codemirror_mode": {
    "name": "ipython",
    "version": 3
   },
   "file_extension": ".py",
   "mimetype": "text/x-python",
   "name": "python",
   "nbconvert_exporter": "python",
   "pygments_lexer": "ipython3",
   "version": "3.12.7"
  }
 },
 "nbformat": 4,
 "nbformat_minor": 5
}
